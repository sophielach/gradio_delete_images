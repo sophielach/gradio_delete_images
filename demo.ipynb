{
  "cells": [
    {
      "cell_type": "markdown",
      "metadata": {
        "id": "wI-hUfOINReQ"
      },
      "source": [
        "## Demo notebook for image deletion via Gradio"
      ]
    },
    {
      "cell_type": "markdown",
      "metadata": {
        "id": "tV-qML9oNjy6"
      },
      "source": [
        "First, clone the repo, install requirements, and import the module"
      ]
    },
    {
      "cell_type": "code",
      "execution_count": null,
      "metadata": {
        "colab": {
          "base_uri": "https://localhost:8080/"
        },
        "id": "vpx8zFqNJmMO",
        "outputId": "0dac2873-4fde-49dc-da35-bfffd83e3000"
      },
      "outputs": [],
      "source": [
        "!git clone https://github.com/sophielach/gradio_delete_images.git\n",
        "%cd gradio_delete_images\n",
        "!pip install -r requirements.txt\n",
        "import delete_images"
      ]
    },
    {
      "cell_type": "markdown",
      "metadata": {
        "id": "9PprvbjHN1-5"
      },
      "source": [
        "Then, specify the image folder, or use the example folder."
      ]
    },
    {
      "cell_type": "code",
      "execution_count": 2,
      "metadata": {
        "id": "8-GbKW8CKEVn"
      },
      "outputs": [],
      "source": [
        "interface = delete_images.create_interface(\"/content/gradio_delete_images/example_images\")"
      ]
    },
    {
      "cell_type": "markdown",
      "metadata": {
        "id": "67s0jU0KOB21"
      },
      "source": [
        "Launch the Interface. Open it in a separate window by clicking the link in the output."
      ]
    },
    {
      "cell_type": "code",
      "execution_count": 3,
      "metadata": {
        "colab": {
          "base_uri": "https://localhost:8080/",
          "height": 638
        },
        "id": "Oo7SYFlnLFTu",
        "outputId": "e63acd50-325a-4198-b57c-589c37f36555"
      },
      "outputs": [
        {
          "name": "stdout",
          "output_type": "stream",
          "text": [
            "Running Gradio in a Colab notebook requires sharing enabled. Automatically setting `share=True` (you can turn this off by setting `share=False` in `launch()` explicitly).\n",
            "\n",
            "Colab notebook detected. To show errors in colab notebook, set debug=True in launch()\n",
            "* Running on public URL: https://ba6d4a841d36e3b2c3.gradio.live\n",
            "\n",
            "This share link expires in 72 hours. For free permanent hosting and GPU upgrades, run `gradio deploy` from the terminal in the working directory to deploy to Hugging Face Spaces (https://huggingface.co/spaces)\n"
          ]
        },
        {
          "data": {
            "text/html": [
              "<div><iframe src=\"https://ba6d4a841d36e3b2c3.gradio.live\" width=\"100%\" height=\"500\" allow=\"autoplay; camera; microphone; clipboard-read; clipboard-write;\" frameborder=\"0\" allowfullscreen></iframe></div>"
            ],
            "text/plain": [
              "<IPython.core.display.HTML object>"
            ]
          },
          "metadata": {},
          "output_type": "display_data"
        },
        {
          "data": {
            "text/plain": []
          },
          "execution_count": 3,
          "metadata": {},
          "output_type": "execute_result"
        }
      ],
      "source": [
        "interface.launch()"
      ]
    }
  ],
  "metadata": {
    "colab": {
      "provenance": []
    },
    "kernelspec": {
      "display_name": "Python 3",
      "name": "python3"
    },
    "language_info": {
      "name": "python"
    }
  },
  "nbformat": 4,
  "nbformat_minor": 0
}
